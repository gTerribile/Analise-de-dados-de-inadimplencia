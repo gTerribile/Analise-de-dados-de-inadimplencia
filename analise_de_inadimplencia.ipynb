{
 "cells": [
  {
   "cell_type": "markdown",
   "id": "4b2d2e5f",
   "metadata": {
    "papermill": {
     "duration": 0.010831,
     "end_time": "2023-12-16T19:36:58.375466",
     "exception": false,
     "start_time": "2023-12-16T19:36:58.364635",
     "status": "completed"
    },
    "tags": []
   },
   "source": [
    "\n",
    "# <span style=\"color: #663399; font-size: 22px;\"> \"Verificação de padrões de inadimplência entre clientes de uma instituição financeira\"</span>"
   ]
  },
  {
   "cell_type": "markdown",
   "id": "6d95e20d",
   "metadata": {
    "papermill": {
     "duration": 0.009821,
     "end_time": "2023-12-16T19:36:58.395546",
     "exception": false,
     "start_time": "2023-12-16T19:36:58.385725",
     "status": "completed"
    },
    "tags": []
   },
   "source": [
    "<img src=\"https://finanzero.com.br/wp-content/uploads/2021/05/analise-de-credito-1280x825-1.jpg\" alt=\"logo\">"
   ]
  },
  {
   "cell_type": "markdown",
   "id": "fa93ae48",
   "metadata": {
    "papermill": {
     "duration": 0.009791,
     "end_time": "2023-12-16T19:36:58.415284",
     "exception": false,
     "start_time": "2023-12-16T19:36:58.405493",
     "status": "completed"
    },
    "tags": []
   },
   "source": [
    "# <span style=\"color: #9370DB;\">1.0 Introdução ao caso</span>"
   ]
  },
  {
   "cell_type": "markdown",
   "id": "1d02bd89",
   "metadata": {
    "papermill": {
     "duration": 0.009887,
     "end_time": "2023-12-16T19:36:58.435211",
     "exception": false,
     "start_time": "2023-12-16T19:36:58.425324",
     "status": "completed"
    },
    "tags": []
   },
   "source": [
    "\n",
    "- <span style=\"color: black; opacity: 0.7; font-size: 18px;\">   \n",
    "Este estudo tem como objetivo verificar possíveis tendências de clientes que são inadimplentes, tendo como base o comportamento de outros atributos (ex.: salário, escolaridade, movimentação financeira, etc);\n",
    "</span>\n",
    "- <span style=\"color: black; opacity: 0.7; font-size: 18px;\">\n",
    "A variável dependente é o \"default\", onde (default == 0) significa que o cliente é adimplente, e (default == 1) significa que o cliente é inadimplente.\n",
    "</span>   \n",
    "\n"
   ]
  },
  {
   "cell_type": "markdown",
   "id": "1d874e12",
   "metadata": {
    "papermill": {
     "duration": 0.009878,
     "end_time": "2023-12-16T19:36:58.455699",
     "exception": false,
     "start_time": "2023-12-16T19:36:58.445821",
     "status": "completed"
    },
    "tags": []
   },
   "source": [
    "# <span style=\"color: #9370DB;\">2.0 Descritivo sobre cada atributo</span>"
   ]
  },
  {
   "cell_type": "markdown",
   "id": "ed55f655",
   "metadata": {
    "papermill": {
     "duration": 0.009839,
     "end_time": "2023-12-16T19:36:58.475548",
     "exception": false,
     "start_time": "2023-12-16T19:36:58.465709",
     "status": "completed"
    },
    "tags": []
   },
   "source": [
    "\n",
    "| Coluna  | Descrição |\n",
    "| ------- | --------- |\n",
    "| id      | Número da conta |\n",
    "| default | Indica se o cliente é adimplente (0) ou inadimplente (1) |\n",
    "| idade   | --- |\n",
    "| sexo    | --- |\n",
    "| depedentes | --- |\n",
    "| escolaridade | --- |\n",
    "| estado_civil | --- |\n",
    "| salario_anual | Faixa do salario mensal multiplicado por 12 |\n",
    "| tipo_cartao | Categoria do cartao: blue, silver, gold e platinium |\n",
    "| meses_de_relacionamento | Quantidade de meses desde a abertura da conta |\n",
    "| qtd_produtos | Quantidade de produtos contratados |\n",
    "| iteracoes_12m | Quantidade de iteracoes com o cliente no último ano |\n",
    "| meses_inatico_12m | Quantidade de meses que o cliente ficou inativo no último ano |\n",
    "| limite_credito | Valor do limite do cartão de crédito |\n",
    "| valor_transacoes_12m | Soma total do valor das transações no cartão de crédito no último ano |\n",
    "| qtd_transacoes_12m | Quantidade total de transações no cartão de crédito no último ano |"
   ]
  },
  {
   "cell_type": "markdown",
   "id": "7e193930",
   "metadata": {
    "papermill": {
     "duration": 0.01115,
     "end_time": "2023-12-16T19:36:58.496869",
     "exception": false,
     "start_time": "2023-12-16T19:36:58.485719",
     "status": "completed"
    },
    "tags": []
   },
   "source": [
    "# <span style=\"color: #9370DB;\">3.0 Imports</span>"
   ]
  },
  {
   "cell_type": "code",
   "execution_count": 1,
   "id": "d9d8ac9d",
   "metadata": {
    "execution": {
     "iopub.execute_input": "2023-12-16T19:36:58.518820Z",
     "iopub.status.busy": "2023-12-16T19:36:58.518494Z",
     "iopub.status.idle": "2023-12-16T19:37:00.203827Z",
     "shell.execute_reply": "2023-12-16T19:37:00.202882Z"
    },
    "papermill": {
     "duration": 1.699318,
     "end_time": "2023-12-16T19:37:00.206642",
     "exception": false,
     "start_time": "2023-12-16T19:36:58.507324",
     "status": "completed"
    },
    "tags": []
   },
   "outputs": [],
   "source": [
    "import pandas as pd\n",
    "import matplotlib.pyplot as plt \n",
    "import seaborn as sns"
   ]
  },
  {
   "cell_type": "markdown",
   "id": "8b8fffbb",
   "metadata": {
    "papermill": {
     "duration": 0.01015,
     "end_time": "2023-12-16T19:37:00.227906",
     "exception": false,
     "start_time": "2023-12-16T19:37:00.217756",
     "status": "completed"
    },
    "tags": []
   },
   "source": [
    "# <span style=\"color: #9370DB;\">4.0 Carregamento dos dados</span>"
   ]
  },
  {
   "cell_type": "markdown",
   "id": "2f8dac21",
   "metadata": {
    "papermill": {
     "duration": 0.009984,
     "end_time": "2023-12-16T19:37:00.248209",
     "exception": false,
     "start_time": "2023-12-16T19:37:00.238225",
     "status": "completed"
    },
    "tags": []
   },
   "source": [
    "Referência: https://www.kaggle.com/datasets/gabrielfigaterribile/cliente-banco/data"
   ]
  },
  {
   "cell_type": "code",
   "execution_count": 2,
   "id": "2a5b15fc",
   "metadata": {
    "execution": {
     "iopub.execute_input": "2023-12-16T19:37:00.315450Z",
     "iopub.status.busy": "2023-12-16T19:37:00.314455Z",
     "iopub.status.idle": "2023-12-16T19:37:00.366637Z",
     "shell.execute_reply": "2023-12-16T19:37:00.365649Z"
    },
    "papermill": {
     "duration": 0.110213,
     "end_time": "2023-12-16T19:37:00.368526",
     "exception": false,
     "start_time": "2023-12-16T19:37:00.258313",
     "status": "completed"
    },
    "tags": []
   },
   "outputs": [
    {
     "name": "stdout",
     "output_type": "stream",
     "text": [
      "Quantidade de linhas: 10127\n",
      "Quantidade de colunas: 16\n",
      "\n",
      "CPU times: user 13.8 ms, sys: 8.92 ms, total: 22.7 ms\n",
      "Wall time: 44.9 ms\n"
     ]
    }
   ],
   "source": [
    "%%time\n",
    "df = pd.read_csv('../input/cliente-banco/clientes_banco.csv', na_values='na') \n",
    "\n",
    "quant_linhas, quant_colunas = df.shape\n",
    "print(f'Quantidade de linhas: {quant_linhas}')\n",
    "print(f'Quantidade de colunas: {quant_colunas}\\n')"
   ]
  },
  {
   "cell_type": "code",
   "execution_count": 3,
   "id": "67ecf14c",
   "metadata": {
    "execution": {
     "iopub.execute_input": "2023-12-16T19:37:00.392171Z",
     "iopub.status.busy": "2023-12-16T19:37:00.391638Z",
     "iopub.status.idle": "2023-12-16T19:37:00.415230Z",
     "shell.execute_reply": "2023-12-16T19:37:00.414421Z"
    },
    "papermill": {
     "duration": 0.037199,
     "end_time": "2023-12-16T19:37:00.417132",
     "exception": false,
     "start_time": "2023-12-16T19:37:00.379933",
     "status": "completed"
    },
    "tags": []
   },
   "outputs": [
    {
     "data": {
      "text/html": [
       "<div>\n",
       "<style scoped>\n",
       "    .dataframe tbody tr th:only-of-type {\n",
       "        vertical-align: middle;\n",
       "    }\n",
       "\n",
       "    .dataframe tbody tr th {\n",
       "        vertical-align: top;\n",
       "    }\n",
       "\n",
       "    .dataframe thead th {\n",
       "        text-align: right;\n",
       "    }\n",
       "</style>\n",
       "<table border=\"1\" class=\"dataframe\">\n",
       "  <thead>\n",
       "    <tr style=\"text-align: right;\">\n",
       "      <th></th>\n",
       "      <th>id</th>\n",
       "      <th>default</th>\n",
       "      <th>idade</th>\n",
       "      <th>sexo</th>\n",
       "      <th>dependentes</th>\n",
       "      <th>escolaridade</th>\n",
       "      <th>estado_civil</th>\n",
       "      <th>salario_anual</th>\n",
       "      <th>tipo_cartao</th>\n",
       "      <th>meses_de_relacionamento</th>\n",
       "      <th>qtd_produtos</th>\n",
       "      <th>iteracoes_12m</th>\n",
       "      <th>meses_inativo_12m</th>\n",
       "      <th>limite_credito</th>\n",
       "      <th>valor_transacoes_12m</th>\n",
       "      <th>qtd_transacoes_12m</th>\n",
       "    </tr>\n",
       "  </thead>\n",
       "  <tbody>\n",
       "    <tr>\n",
       "      <th>0</th>\n",
       "      <td>768805383</td>\n",
       "      <td>0</td>\n",
       "      <td>45</td>\n",
       "      <td>M</td>\n",
       "      <td>3</td>\n",
       "      <td>ensino medio</td>\n",
       "      <td>casado</td>\n",
       "      <td>$60K - $80K</td>\n",
       "      <td>blue</td>\n",
       "      <td>39</td>\n",
       "      <td>5</td>\n",
       "      <td>3</td>\n",
       "      <td>1</td>\n",
       "      <td>12.691,51</td>\n",
       "      <td>1.144,90</td>\n",
       "      <td>42</td>\n",
       "    </tr>\n",
       "    <tr>\n",
       "      <th>1</th>\n",
       "      <td>818770008</td>\n",
       "      <td>0</td>\n",
       "      <td>49</td>\n",
       "      <td>F</td>\n",
       "      <td>5</td>\n",
       "      <td>mestrado</td>\n",
       "      <td>solteiro</td>\n",
       "      <td>menos que $40K</td>\n",
       "      <td>blue</td>\n",
       "      <td>44</td>\n",
       "      <td>6</td>\n",
       "      <td>2</td>\n",
       "      <td>1</td>\n",
       "      <td>8.256,96</td>\n",
       "      <td>1.291,45</td>\n",
       "      <td>33</td>\n",
       "    </tr>\n",
       "    <tr>\n",
       "      <th>2</th>\n",
       "      <td>713982108</td>\n",
       "      <td>0</td>\n",
       "      <td>51</td>\n",
       "      <td>M</td>\n",
       "      <td>3</td>\n",
       "      <td>mestrado</td>\n",
       "      <td>casado</td>\n",
       "      <td>$80K - $120K</td>\n",
       "      <td>blue</td>\n",
       "      <td>36</td>\n",
       "      <td>4</td>\n",
       "      <td>0</td>\n",
       "      <td>1</td>\n",
       "      <td>3.418,56</td>\n",
       "      <td>1.887,72</td>\n",
       "      <td>20</td>\n",
       "    </tr>\n",
       "    <tr>\n",
       "      <th>3</th>\n",
       "      <td>769911858</td>\n",
       "      <td>0</td>\n",
       "      <td>40</td>\n",
       "      <td>F</td>\n",
       "      <td>4</td>\n",
       "      <td>ensino medio</td>\n",
       "      <td>NaN</td>\n",
       "      <td>menos que $40K</td>\n",
       "      <td>blue</td>\n",
       "      <td>34</td>\n",
       "      <td>3</td>\n",
       "      <td>1</td>\n",
       "      <td>4</td>\n",
       "      <td>3.313,03</td>\n",
       "      <td>1.171,56</td>\n",
       "      <td>20</td>\n",
       "    </tr>\n",
       "    <tr>\n",
       "      <th>4</th>\n",
       "      <td>709106358</td>\n",
       "      <td>0</td>\n",
       "      <td>40</td>\n",
       "      <td>M</td>\n",
       "      <td>3</td>\n",
       "      <td>sem educacao formal</td>\n",
       "      <td>casado</td>\n",
       "      <td>$60K - $80K</td>\n",
       "      <td>blue</td>\n",
       "      <td>21</td>\n",
       "      <td>5</td>\n",
       "      <td>0</td>\n",
       "      <td>1</td>\n",
       "      <td>4.716,22</td>\n",
       "      <td>816,08</td>\n",
       "      <td>28</td>\n",
       "    </tr>\n",
       "  </tbody>\n",
       "</table>\n",
       "</div>"
      ],
      "text/plain": [
       "          id  default  idade sexo  dependentes         escolaridade  \\\n",
       "0  768805383        0     45    M            3         ensino medio   \n",
       "1  818770008        0     49    F            5             mestrado   \n",
       "2  713982108        0     51    M            3             mestrado   \n",
       "3  769911858        0     40    F            4         ensino medio   \n",
       "4  709106358        0     40    M            3  sem educacao formal   \n",
       "\n",
       "  estado_civil   salario_anual tipo_cartao  meses_de_relacionamento  \\\n",
       "0       casado     $60K - $80K        blue                       39   \n",
       "1     solteiro  menos que $40K        blue                       44   \n",
       "2       casado    $80K - $120K        blue                       36   \n",
       "3          NaN  menos que $40K        blue                       34   \n",
       "4       casado     $60K - $80K        blue                       21   \n",
       "\n",
       "   qtd_produtos  iteracoes_12m  meses_inativo_12m limite_credito  \\\n",
       "0             5              3                  1      12.691,51   \n",
       "1             6              2                  1       8.256,96   \n",
       "2             4              0                  1       3.418,56   \n",
       "3             3              1                  4       3.313,03   \n",
       "4             5              0                  1       4.716,22   \n",
       "\n",
       "  valor_transacoes_12m  qtd_transacoes_12m  \n",
       "0             1.144,90                  42  \n",
       "1             1.291,45                  33  \n",
       "2             1.887,72                  20  \n",
       "3             1.171,56                  20  \n",
       "4               816,08                  28  "
      ]
     },
     "execution_count": 3,
     "metadata": {},
     "output_type": "execute_result"
    }
   ],
   "source": [
    "df.head(5)"
   ]
  },
  {
   "cell_type": "markdown",
   "id": "b5ed6d83",
   "metadata": {
    "papermill": {
     "duration": 0.010444,
     "end_time": "2023-12-16T19:37:00.439358",
     "exception": false,
     "start_time": "2023-12-16T19:37:00.428914",
     "status": "completed"
    },
    "tags": []
   },
   "source": [
    "# <span style=\"color: #9370DB;\">5.0 Distribuição dos dados</span>"
   ]
  },
  {
   "cell_type": "code",
   "execution_count": 4,
   "id": "3e8b1df4",
   "metadata": {
    "execution": {
     "iopub.execute_input": "2023-12-16T19:37:00.462343Z",
     "iopub.status.busy": "2023-12-16T19:37:00.461868Z",
     "iopub.status.idle": "2023-12-16T19:37:00.473652Z",
     "shell.execute_reply": "2023-12-16T19:37:00.472382Z"
    },
    "papermill": {
     "duration": 0.025341,
     "end_time": "2023-12-16T19:37:00.475281",
     "exception": false,
     "start_time": "2023-12-16T19:37:00.449940",
     "status": "completed"
    },
    "tags": []
   },
   "outputs": [
    {
     "name": "stdout",
     "output_type": "stream",
     "text": [
      "Quantidade de clientes adimplentes: 8500\n",
      "\n",
      "Quantidade de clientes inadimplentes: 1627\n"
     ]
    }
   ],
   "source": [
    "quantidade_adimplentes, _ = df[df['default'] == 0].shape\n",
    "print(f'Quantidade de clientes adimplentes: {quantidade_adimplentes}\\n')\n",
    "\n",
    "quantidade_inadimplentes, _ = df[df['default'] == 1].shape\n",
    "print(f'Quantidade de clientes inadimplentes: {quantidade_inadimplentes}')"
   ]
  },
  {
   "cell_type": "code",
   "execution_count": 5,
   "id": "7127a9dc",
   "metadata": {
    "execution": {
     "iopub.execute_input": "2023-12-16T19:37:00.498889Z",
     "iopub.status.busy": "2023-12-16T19:37:00.498364Z",
     "iopub.status.idle": "2023-12-16T19:37:00.707901Z",
     "shell.execute_reply": "2023-12-16T19:37:00.706937Z"
    },
    "papermill": {
     "duration": 0.223661,
     "end_time": "2023-12-16T19:37:00.709708",
     "exception": false,
     "start_time": "2023-12-16T19:37:00.486047",
     "status": "completed"
    },
    "tags": []
   },
   "outputs": [
    {
     "data": {
      "image/png": "[encoded data removed]",
      "text/plain": [
       "<Figure size 640x480 with 1 Axes>"
      ]
     },
     "metadata": {},
     "output_type": "display_data"
    }
   ],
   "source": [
    "data = [quantidade_adimplentes, quantidade_inadimplentes] \n",
    "keys = ['Clientes adimplentes', 'Clientes inadimplentes'] \n",
    "\n",
    "explode = [0, 0.2] \n",
    "  \n",
    "palette_color = sns.color_palette('coolwarm_r') \n",
    "  \n",
    "plt.pie(data, labels=keys, colors=palette_color, explode=explode, autopct='%.0f%%') \n",
    "\n",
    "plt.title('Distribuição de Clientes Adimplentes e Inadimplentes')\n",
    "  \n",
    "plt.show() "
   ]
  },
  {
   "cell_type": "markdown",
   "id": "d00845aa",
   "metadata": {
    "papermill": {
     "duration": 0.01076,
     "end_time": "2023-12-16T19:37:00.731764",
     "exception": false,
     "start_time": "2023-12-16T19:37:00.721004",
     "status": "completed"
    },
    "tags": []
   },
   "source": [
    "# <span style=\"color: #9370DB;\">6.0 Análise exploratória de dados (AED)</span>"
   ]
  },
  {
   "cell_type": "markdown",
   "id": "c07edbd2",
   "metadata": {
    "papermill": {
     "duration": 0.011271,
     "end_time": "2023-12-16T19:37:00.754251",
     "exception": false,
     "start_time": "2023-12-16T19:37:00.742980",
     "status": "completed"
    },
    "tags": []
   },
   "source": [
    "## 6.1 Colunas e seus respectivos tipos de dados"
   ]
  },
  {
   "cell_type": "code",
   "execution_count": 6,
   "id": "14e84ef4",
   "metadata": {
    "execution": {
     "iopub.execute_input": "2023-12-16T19:37:00.777812Z",
     "iopub.status.busy": "2023-12-16T19:37:00.777327Z",
     "iopub.status.idle": "2023-12-16T19:37:00.783523Z",
     "shell.execute_reply": "2023-12-16T19:37:00.782917Z"
    },
    "papermill": {
     "duration": 0.019895,
     "end_time": "2023-12-16T19:37:00.785132",
     "exception": false,
     "start_time": "2023-12-16T19:37:00.765237",
     "status": "completed"
    },
    "tags": []
   },
   "outputs": [
    {
     "data": {
      "text/plain": [
       "id                          int64\n",
       "default                     int64\n",
       "idade                       int64\n",
       "sexo                       object\n",
       "dependentes                 int64\n",
       "escolaridade               object\n",
       "estado_civil               object\n",
       "salario_anual              object\n",
       "tipo_cartao                object\n",
       "meses_de_relacionamento     int64\n",
       "qtd_produtos                int64\n",
       "iteracoes_12m               int64\n",
       "meses_inativo_12m           int64\n",
       "limite_credito             object\n",
       "valor_transacoes_12m       object\n",
       "qtd_transacoes_12m          int64\n",
       "dtype: object"
      ]
     },
     "execution_count": 6,
     "metadata": {},
     "output_type": "execute_result"
    }
   ],
   "source": [
    "df.dtypes"
   ]
  },
  {
   "cell_type": "markdown",
   "id": "c3cb0b83",
   "metadata": {
    "papermill": {
     "duration": 0.010957,
     "end_time": "2023-12-16T19:37:00.807121",
     "exception": false,
     "start_time": "2023-12-16T19:37:00.796164",
     "status": "completed"
    },
    "tags": []
   },
   "source": [
    "### Colunas com atributos categóricos"
   ]
  },
  {
   "cell_type": "code",
   "execution_count": 7,
   "id": "ecd5c9cd",
   "metadata": {
    "execution": {
     "iopub.execute_input": "2023-12-16T19:37:00.830534Z",
     "iopub.status.busy": "2023-12-16T19:37:00.830242Z",
     "iopub.status.idle": "2023-12-16T19:37:00.860422Z",
     "shell.execute_reply": "2023-12-16T19:37:00.859635Z"
    },
    "papermill": {
     "duration": 0.043914,
     "end_time": "2023-12-16T19:37:00.862076",
     "exception": false,
     "start_time": "2023-12-16T19:37:00.818162",
     "status": "completed"
    },
    "tags": []
   },
   "outputs": [
    {
     "data": {
      "text/html": [
       "<div>\n",
       "<style scoped>\n",
       "    .dataframe tbody tr th:only-of-type {\n",
       "        vertical-align: middle;\n",
       "    }\n",
       "\n",
       "    .dataframe tbody tr th {\n",
       "        vertical-align: top;\n",
       "    }\n",
       "\n",
       "    .dataframe thead th {\n",
       "        text-align: right;\n",
       "    }\n",
       "</style>\n",
       "<table border=\"1\" class=\"dataframe\">\n",
       "  <thead>\n",
       "    <tr style=\"text-align: right;\">\n",
       "      <th></th>\n",
       "      <th>count</th>\n",
       "      <th>unique</th>\n",
       "      <th>top</th>\n",
       "      <th>freq</th>\n",
       "    </tr>\n",
       "  </thead>\n",
       "  <tbody>\n",
       "    <tr>\n",
       "      <th>sexo</th>\n",
       "      <td>10127</td>\n",
       "      <td>2</td>\n",
       "      <td>F</td>\n",
       "      <td>5358</td>\n",
       "    </tr>\n",
       "    <tr>\n",
       "      <th>escolaridade</th>\n",
       "      <td>8608</td>\n",
       "      <td>5</td>\n",
       "      <td>mestrado</td>\n",
       "      <td>3128</td>\n",
       "    </tr>\n",
       "    <tr>\n",
       "      <th>estado_civil</th>\n",
       "      <td>9378</td>\n",
       "      <td>3</td>\n",
       "      <td>casado</td>\n",
       "      <td>4687</td>\n",
       "    </tr>\n",
       "    <tr>\n",
       "      <th>salario_anual</th>\n",
       "      <td>9015</td>\n",
       "      <td>5</td>\n",
       "      <td>menos que $40K</td>\n",
       "      <td>3561</td>\n",
       "    </tr>\n",
       "    <tr>\n",
       "      <th>tipo_cartao</th>\n",
       "      <td>10127</td>\n",
       "      <td>4</td>\n",
       "      <td>blue</td>\n",
       "      <td>9436</td>\n",
       "    </tr>\n",
       "    <tr>\n",
       "      <th>limite_credito</th>\n",
       "      <td>10127</td>\n",
       "      <td>9272</td>\n",
       "      <td>1.438,21</td>\n",
       "      <td>11</td>\n",
       "    </tr>\n",
       "    <tr>\n",
       "      <th>valor_transacoes_12m</th>\n",
       "      <td>10127</td>\n",
       "      <td>10035</td>\n",
       "      <td>3.851,51</td>\n",
       "      <td>3</td>\n",
       "    </tr>\n",
       "  </tbody>\n",
       "</table>\n",
       "</div>"
      ],
      "text/plain": [
       "                      count unique             top  freq\n",
       "sexo                  10127      2               F  5358\n",
       "escolaridade           8608      5        mestrado  3128\n",
       "estado_civil           9378      3          casado  4687\n",
       "salario_anual          9015      5  menos que $40K  3561\n",
       "tipo_cartao           10127      4            blue  9436\n",
       "limite_credito        10127   9272        1.438,21    11\n",
       "valor_transacoes_12m  10127  10035        3.851,51     3"
      ]
     },
     "execution_count": 7,
     "metadata": {},
     "output_type": "execute_result"
    }
   ],
   "source": [
    "df.select_dtypes('object').describe().transpose()"
   ]
  },
  {
   "cell_type": "markdown",
   "id": "987a31ff",
   "metadata": {
    "papermill": {
     "duration": 0.010795,
     "end_time": "2023-12-16T19:37:00.884259",
     "exception": false,
     "start_time": "2023-12-16T19:37:00.873464",
     "status": "completed"
    },
    "tags": []
   },
   "source": [
    "Obs.: Pode-se observar que as colunas 'limite_credito' e 'valor_transacoes_12m' estão sendo interpretados como atributos categóricos, contudo, para que possamos realizar a análise de dados utilizando estas colunas, iremos alterá-las como atributos numéricos (na fase de transformação de dados)."
   ]
  },
  {
   "cell_type": "markdown",
   "id": "2a6b03d3",
   "metadata": {
    "papermill": {
     "duration": 0.010978,
     "end_time": "2023-12-16T19:37:00.906286",
     "exception": false,
     "start_time": "2023-12-16T19:37:00.895308",
     "status": "completed"
    },
    "tags": []
   },
   "source": [
    "### Colunas com atributos númericos"
   ]
  },
  {
   "cell_type": "code",
   "execution_count": 8,
   "id": "567fd454",
   "metadata": {
    "execution": {
     "iopub.execute_input": "2023-12-16T19:37:00.932878Z",
     "iopub.status.busy": "2023-12-16T19:37:00.932207Z",
     "iopub.status.idle": "2023-12-16T19:37:00.964988Z",
     "shell.execute_reply": "2023-12-16T19:37:00.964122Z"
    },
    "papermill": {
     "duration": 0.049434,
     "end_time": "2023-12-16T19:37:00.966801",
     "exception": false,
     "start_time": "2023-12-16T19:37:00.917367",
     "status": "completed"
    },
    "tags": []
   },
   "outputs": [
    {
     "data": {
      "text/html": [
       "<div>\n",
       "<style scoped>\n",
       "    .dataframe tbody tr th:only-of-type {\n",
       "        vertical-align: middle;\n",
       "    }\n",
       "\n",
       "    .dataframe tbody tr th {\n",
       "        vertical-align: top;\n",
       "    }\n",
       "\n",
       "    .dataframe thead th {\n",
       "        text-align: right;\n",
       "    }\n",
       "</style>\n",
       "<table border=\"1\" class=\"dataframe\">\n",
       "  <thead>\n",
       "    <tr style=\"text-align: right;\">\n",
       "      <th></th>\n",
       "      <th>count</th>\n",
       "      <th>mean</th>\n",
       "      <th>std</th>\n",
       "      <th>min</th>\n",
       "      <th>25%</th>\n",
       "      <th>50%</th>\n",
       "      <th>75%</th>\n",
       "      <th>max</th>\n",
       "    </tr>\n",
       "  </thead>\n",
       "  <tbody>\n",
       "    <tr>\n",
       "      <th>default</th>\n",
       "      <td>10127.0</td>\n",
       "      <td>0.160660</td>\n",
       "      <td>0.367235</td>\n",
       "      <td>0.0</td>\n",
       "      <td>0.0</td>\n",
       "      <td>0.0</td>\n",
       "      <td>0.0</td>\n",
       "      <td>1.0</td>\n",
       "    </tr>\n",
       "    <tr>\n",
       "      <th>idade</th>\n",
       "      <td>10127.0</td>\n",
       "      <td>46.325960</td>\n",
       "      <td>8.016814</td>\n",
       "      <td>26.0</td>\n",
       "      <td>41.0</td>\n",
       "      <td>46.0</td>\n",
       "      <td>52.0</td>\n",
       "      <td>73.0</td>\n",
       "    </tr>\n",
       "    <tr>\n",
       "      <th>dependentes</th>\n",
       "      <td>10127.0</td>\n",
       "      <td>2.346203</td>\n",
       "      <td>1.298908</td>\n",
       "      <td>0.0</td>\n",
       "      <td>1.0</td>\n",
       "      <td>2.0</td>\n",
       "      <td>3.0</td>\n",
       "      <td>5.0</td>\n",
       "    </tr>\n",
       "    <tr>\n",
       "      <th>meses_de_relacionamento</th>\n",
       "      <td>10127.0</td>\n",
       "      <td>35.928409</td>\n",
       "      <td>7.986416</td>\n",
       "      <td>13.0</td>\n",
       "      <td>31.0</td>\n",
       "      <td>36.0</td>\n",
       "      <td>40.0</td>\n",
       "      <td>56.0</td>\n",
       "    </tr>\n",
       "    <tr>\n",
       "      <th>qtd_produtos</th>\n",
       "      <td>10127.0</td>\n",
       "      <td>3.812580</td>\n",
       "      <td>1.554408</td>\n",
       "      <td>1.0</td>\n",
       "      <td>3.0</td>\n",
       "      <td>4.0</td>\n",
       "      <td>5.0</td>\n",
       "      <td>6.0</td>\n",
       "    </tr>\n",
       "    <tr>\n",
       "      <th>iteracoes_12m</th>\n",
       "      <td>10127.0</td>\n",
       "      <td>2.455317</td>\n",
       "      <td>1.106225</td>\n",
       "      <td>0.0</td>\n",
       "      <td>2.0</td>\n",
       "      <td>2.0</td>\n",
       "      <td>3.0</td>\n",
       "      <td>6.0</td>\n",
       "    </tr>\n",
       "    <tr>\n",
       "      <th>meses_inativo_12m</th>\n",
       "      <td>10127.0</td>\n",
       "      <td>2.341167</td>\n",
       "      <td>1.010622</td>\n",
       "      <td>0.0</td>\n",
       "      <td>2.0</td>\n",
       "      <td>2.0</td>\n",
       "      <td>3.0</td>\n",
       "      <td>6.0</td>\n",
       "    </tr>\n",
       "    <tr>\n",
       "      <th>qtd_transacoes_12m</th>\n",
       "      <td>10127.0</td>\n",
       "      <td>64.858695</td>\n",
       "      <td>23.472570</td>\n",
       "      <td>10.0</td>\n",
       "      <td>45.0</td>\n",
       "      <td>67.0</td>\n",
       "      <td>81.0</td>\n",
       "      <td>139.0</td>\n",
       "    </tr>\n",
       "  </tbody>\n",
       "</table>\n",
       "</div>"
      ],
      "text/plain": [
       "                           count       mean        std   min   25%   50%  \\\n",
       "default                  10127.0   0.160660   0.367235   0.0   0.0   0.0   \n",
       "idade                    10127.0  46.325960   8.016814  26.0  41.0  46.0   \n",
       "dependentes              10127.0   2.346203   1.298908   0.0   1.0   2.0   \n",
       "meses_de_relacionamento  10127.0  35.928409   7.986416  13.0  31.0  36.0   \n",
       "qtd_produtos             10127.0   3.812580   1.554408   1.0   3.0   4.0   \n",
       "iteracoes_12m            10127.0   2.455317   1.106225   0.0   2.0   2.0   \n",
       "meses_inativo_12m        10127.0   2.341167   1.010622   0.0   2.0   2.0   \n",
       "qtd_transacoes_12m       10127.0  64.858695  23.472570  10.0  45.0  67.0   \n",
       "\n",
       "                          75%    max  \n",
       "default                   0.0    1.0  \n",
       "idade                    52.0   73.0  \n",
       "dependentes               3.0    5.0  \n",
       "meses_de_relacionamento  40.0   56.0  \n",
       "qtd_produtos              5.0    6.0  \n",
       "iteracoes_12m             3.0    6.0  \n",
       "meses_inativo_12m         3.0    6.0  \n",
       "qtd_transacoes_12m       81.0  139.0  "
      ]
     },
     "execution_count": 8,
     "metadata": {},
     "output_type": "execute_result"
    }
   ],
   "source": [
    "df.drop('id', axis=1).select_dtypes('number').describe().transpose() "
   ]
  },
  {
   "cell_type": "markdown",
   "id": "07502e9d",
   "metadata": {
    "papermill": {
     "duration": 0.011202,
     "end_time": "2023-12-16T19:37:00.989925",
     "exception": false,
     "start_time": "2023-12-16T19:37:00.978723",
     "status": "completed"
    },
    "tags": []
   },
   "source": [
    "Obs.: Há a opção de alterarmos a coluna 'id' para um atributo categórico, porém como não utilizaremos tal parâmetro em nossa análise, não iremos alterar esta coluna na fase de transformação dos dados."
   ]
  },
  {
   "cell_type": "markdown",
   "id": "c8df50bf",
   "metadata": {
    "papermill": {
     "duration": 0.011275,
     "end_time": "2023-12-16T19:37:01.012695",
     "exception": false,
     "start_time": "2023-12-16T19:37:01.001420",
     "status": "completed"
    },
    "tags": []
   },
   "source": [
    "## 6.2 Exploração dos dados nulos "
   ]
  },
  {
   "cell_type": "markdown",
   "id": "7ca86976",
   "metadata": {
    "papermill": {
     "duration": 0.011327,
     "end_time": "2023-12-16T19:37:01.035389",
     "exception": false,
     "start_time": "2023-12-16T19:37:01.024062",
     "status": "completed"
    },
    "tags": []
   },
   "source": [
    "### Verificação de quais colunas possuem dados nulos"
   ]
  },
  {
   "cell_type": "code",
   "execution_count": 9,
   "id": "36191e64",
   "metadata": {
    "execution": {
     "iopub.execute_input": "2023-12-16T19:37:01.059993Z",
     "iopub.status.busy": "2023-12-16T19:37:01.059693Z",
     "iopub.status.idle": "2023-12-16T19:37:01.068409Z",
     "shell.execute_reply": "2023-12-16T19:37:01.067622Z"
    },
    "papermill": {
     "duration": 0.023592,
     "end_time": "2023-12-16T19:37:01.070512",
     "exception": false,
     "start_time": "2023-12-16T19:37:01.046920",
     "status": "completed"
    },
    "tags": []
   },
   "outputs": [
    {
     "data": {
      "text/plain": [
       "id                         False\n",
       "default                    False\n",
       "idade                      False\n",
       "sexo                       False\n",
       "dependentes                False\n",
       "escolaridade                True\n",
       "estado_civil                True\n",
       "salario_anual               True\n",
       "tipo_cartao                False\n",
       "meses_de_relacionamento    False\n",
       "qtd_produtos               False\n",
       "iteracoes_12m              False\n",
       "meses_inativo_12m          False\n",
       "limite_credito             False\n",
       "valor_transacoes_12m       False\n",
       "qtd_transacoes_12m         False\n",
       "dtype: bool"
      ]
     },
     "execution_count": 9,
     "metadata": {},
     "output_type": "execute_result"
    }
   ],
   "source": [
    "df.isna().any() # As colunas 'escolaridade, 'estado_civil' e 'salario_anual' possuem dados faltantes, pois constam como 'True'"
   ]
  },
  {
   "cell_type": "markdown",
   "id": "948baa9c",
   "metadata": {
    "papermill": {
     "duration": 0.011354,
     "end_time": "2023-12-16T19:37:01.094195",
     "exception": false,
     "start_time": "2023-12-16T19:37:01.082841",
     "status": "completed"
    },
    "tags": []
   },
   "source": [
    "### Função que verifica qual o porcentual de dados nulos de cada coluna"
   ]
  },
  {
   "cell_type": "code",
   "execution_count": 10,
   "id": "61528825",
   "metadata": {
    "execution": {
     "iopub.execute_input": "2023-12-16T19:37:01.118550Z",
     "iopub.status.busy": "2023-12-16T19:37:01.118238Z",
     "iopub.status.idle": "2023-12-16T19:37:01.124009Z",
     "shell.execute_reply": "2023-12-16T19:37:01.123165Z"
    },
    "papermill": {
     "duration": 0.020219,
     "end_time": "2023-12-16T19:37:01.125760",
     "exception": false,
     "start_time": "2023-12-16T19:37:01.105541",
     "status": "completed"
    },
    "tags": []
   },
   "outputs": [],
   "source": [
    "def stats_dados_faltantes(df: pd.DataFrame) -> None: \n",
    "\n",
    "  stats_dados_faltantes = []\n",
    "  for col in df.columns:\n",
    "    if df[col].isna().any():\n",
    "      qtd, _ = df[df[col].isna()].shape\n",
    "      total, _ = df.shape\n",
    "      dict_dados_faltantes = {col: {'quantidade': qtd, \"porcentagem\": round(100 * qtd/total, 2)}}\n",
    "      stats_dados_faltantes.append(dict_dados_faltantes)\n",
    "\n",
    "  for stat in stats_dados_faltantes:\n",
    "    print(stat)"
   ]
  },
  {
   "cell_type": "code",
   "execution_count": 11,
   "id": "d7d7626d",
   "metadata": {
    "execution": {
     "iopub.execute_input": "2023-12-16T19:37:01.150163Z",
     "iopub.status.busy": "2023-12-16T19:37:01.149896Z",
     "iopub.status.idle": "2023-12-16T19:37:01.162031Z",
     "shell.execute_reply": "2023-12-16T19:37:01.160890Z"
    },
    "papermill": {
     "duration": 0.026135,
     "end_time": "2023-12-16T19:37:01.163659",
     "exception": false,
     "start_time": "2023-12-16T19:37:01.137524",
     "status": "completed"
    },
    "tags": []
   },
   "outputs": [
    {
     "name": "stdout",
     "output_type": "stream",
     "text": [
      "{'escolaridade': {'quantidade': 1519, 'porcentagem': 15.0}}\n",
      "{'estado_civil': {'quantidade': 749, 'porcentagem': 7.4}}\n",
      "{'salario_anual': {'quantidade': 1112, 'porcentagem': 10.98}}\n"
     ]
    }
   ],
   "source": [
    "# Dados faltantes para cada coluna, considerando o dataframe completo\n",
    "stats_dados_faltantes(df=df)"
   ]
  },
  {
   "cell_type": "code",
   "execution_count": 12,
   "id": "2d44a1bd",
   "metadata": {
    "execution": {
     "iopub.execute_input": "2023-12-16T19:37:01.188039Z",
     "iopub.status.busy": "2023-12-16T19:37:01.187737Z",
     "iopub.status.idle": "2023-12-16T19:37:01.200289Z",
     "shell.execute_reply": "2023-12-16T19:37:01.199634Z"
    },
    "papermill": {
     "duration": 0.026588,
     "end_time": "2023-12-16T19:37:01.201868",
     "exception": false,
     "start_time": "2023-12-16T19:37:01.175280",
     "status": "completed"
    },
    "tags": []
   },
   "outputs": [
    {
     "name": "stdout",
     "output_type": "stream",
     "text": [
      "{'escolaridade': {'quantidade': 1263, 'porcentagem': 14.86}}\n",
      "{'estado_civil': {'quantidade': 620, 'porcentagem': 7.29}}\n",
      "{'salario_anual': {'quantidade': 925, 'porcentagem': 10.88}}\n"
     ]
    }
   ],
   "source": [
    "# Considerando somente o dataframe com os clientes adimplentes, abaixo consta a quantidade e porcentual de cada linha com dados nulos\n",
    "stats_dados_faltantes(df=df[df['default'] == 0]) "
   ]
  },
  {
   "cell_type": "code",
   "execution_count": 13,
   "id": "768445ce",
   "metadata": {
    "execution": {
     "iopub.execute_input": "2023-12-16T19:37:01.226778Z",
     "iopub.status.busy": "2023-12-16T19:37:01.226495Z",
     "iopub.status.idle": "2023-12-16T19:37:01.235267Z",
     "shell.execute_reply": "2023-12-16T19:37:01.234080Z"
    },
    "papermill": {
     "duration": 0.023483,
     "end_time": "2023-12-16T19:37:01.237493",
     "exception": false,
     "start_time": "2023-12-16T19:37:01.214010",
     "status": "completed"
    },
    "tags": []
   },
   "outputs": [
    {
     "name": "stdout",
     "output_type": "stream",
     "text": [
      "{'escolaridade': {'quantidade': 256, 'porcentagem': 15.73}}\n",
      "{'estado_civil': {'quantidade': 129, 'porcentagem': 7.93}}\n",
      "{'salario_anual': {'quantidade': 187, 'porcentagem': 11.49}}\n"
     ]
    }
   ],
   "source": [
    "# Considerando somente o dataframe com os clientes inadimplentes, abaixo consta a quantidade e porcentual de cada linha com dados nulos\n",
    "stats_dados_faltantes(df=df[df['default'] == 1]) "
   ]
  },
  {
   "cell_type": "markdown",
   "id": "12072296",
   "metadata": {
    "papermill": {
     "duration": 0.012924,
     "end_time": "2023-12-16T19:37:01.262917",
     "exception": false,
     "start_time": "2023-12-16T19:37:01.249993",
     "status": "completed"
    },
    "tags": []
   },
   "source": [
    "# <span style=\"color: #9370DB;\">7.0 Transformação e limpeza dos dados </span>"
   ]
  },
  {
   "cell_type": "markdown",
   "id": "9423e35f",
   "metadata": {
    "papermill": {
     "duration": 0.011611,
     "end_time": "2023-12-16T19:37:01.287132",
     "exception": false,
     "start_time": "2023-12-16T19:37:01.275521",
     "status": "completed"
    },
    "tags": []
   },
   "source": [
    "## Realização do data wrangling, com o objetivo de:\n",
    "- Corrigir o schema das colunas ('limite_credito' e 'valor_transacoes_12m');\n",
    "- Remoção dos dados nulos."
   ]
  },
  {
   "cell_type": "markdown",
   "id": "7a34a9b7",
   "metadata": {
    "papermill": {
     "duration": 0.011404,
     "end_time": "2023-12-16T19:37:01.310332",
     "exception": false,
     "start_time": "2023-12-16T19:37:01.298928",
     "status": "completed"
    },
    "tags": []
   },
   "source": [
    "## 7.1 Correção de schema"
   ]
  },
  {
   "cell_type": "markdown",
   "id": "1aef681c",
   "metadata": {
    "papermill": {
     "duration": 0.011394,
     "end_time": "2023-12-16T19:37:01.333423",
     "exception": false,
     "start_time": "2023-12-16T19:37:01.322029",
     "status": "completed"
    },
    "tags": []
   },
   "source": [
    "As colunas 'limite_credito' e 'valor_transacoes_12m' estão sendo interpretadas como atributos categóricos, contudo para que possamos trabalhar com os dados destas colunas em nossa análise, iremos transformá-los como atributos numéricos."
   ]
  },
  {
   "cell_type": "code",
   "execution_count": 14,
   "id": "56254e1d",
   "metadata": {
    "execution": {
     "iopub.execute_input": "2023-12-16T19:37:01.358869Z",
     "iopub.status.busy": "2023-12-16T19:37:01.357798Z",
     "iopub.status.idle": "2023-12-16T19:37:01.365312Z",
     "shell.execute_reply": "2023-12-16T19:37:01.364513Z"
    },
    "papermill": {
     "duration": 0.021942,
     "end_time": "2023-12-16T19:37:01.366987",
     "exception": false,
     "start_time": "2023-12-16T19:37:01.345045",
     "status": "completed"
    },
    "tags": []
   },
   "outputs": [
    {
     "data": {
      "text/plain": [
       "limite_credito          object\n",
       "valor_transacoes_12m    object\n",
       "dtype: object"
      ]
     },
     "execution_count": 14,
     "metadata": {},
     "output_type": "execute_result"
    }
   ],
   "source": [
    "df[['limite_credito', 'valor_transacoes_12m']].dtypes"
   ]
  },
  {
   "cell_type": "code",
   "execution_count": 15,
   "id": "4d634913",
   "metadata": {
    "execution": {
     "iopub.execute_input": "2023-12-16T19:37:01.392423Z",
     "iopub.status.busy": "2023-12-16T19:37:01.392154Z",
     "iopub.status.idle": "2023-12-16T19:37:01.400791Z",
     "shell.execute_reply": "2023-12-16T19:37:01.399901Z"
    },
    "papermill": {
     "duration": 0.023614,
     "end_time": "2023-12-16T19:37:01.402707",
     "exception": false,
     "start_time": "2023-12-16T19:37:01.379093",
     "status": "completed"
    },
    "tags": []
   },
   "outputs": [
    {
     "data": {
      "text/html": [
       "<div>\n",
       "<style scoped>\n",
       "    .dataframe tbody tr th:only-of-type {\n",
       "        vertical-align: middle;\n",
       "    }\n",
       "\n",
       "    .dataframe tbody tr th {\n",
       "        vertical-align: top;\n",
       "    }\n",
       "\n",
       "    .dataframe thead th {\n",
       "        text-align: right;\n",
       "    }\n",
       "</style>\n",
       "<table border=\"1\" class=\"dataframe\">\n",
       "  <thead>\n",
       "    <tr style=\"text-align: right;\">\n",
       "      <th></th>\n",
       "      <th>limite_credito</th>\n",
       "      <th>valor_transacoes_12m</th>\n",
       "    </tr>\n",
       "  </thead>\n",
       "  <tbody>\n",
       "    <tr>\n",
       "      <th>0</th>\n",
       "      <td>12.691,51</td>\n",
       "      <td>1.144,90</td>\n",
       "    </tr>\n",
       "    <tr>\n",
       "      <th>1</th>\n",
       "      <td>8.256,96</td>\n",
       "      <td>1.291,45</td>\n",
       "    </tr>\n",
       "    <tr>\n",
       "      <th>2</th>\n",
       "      <td>3.418,56</td>\n",
       "      <td>1.887,72</td>\n",
       "    </tr>\n",
       "    <tr>\n",
       "      <th>3</th>\n",
       "      <td>3.313,03</td>\n",
       "      <td>1.171,56</td>\n",
       "    </tr>\n",
       "    <tr>\n",
       "      <th>4</th>\n",
       "      <td>4.716,22</td>\n",
       "      <td>816,08</td>\n",
       "    </tr>\n",
       "  </tbody>\n",
       "</table>\n",
       "</div>"
      ],
      "text/plain": [
       "  limite_credito valor_transacoes_12m\n",
       "0      12.691,51             1.144,90\n",
       "1       8.256,96             1.291,45\n",
       "2       3.418,56             1.887,72\n",
       "3       3.313,03             1.171,56\n",
       "4       4.716,22               816,08"
      ]
     },
     "execution_count": 15,
     "metadata": {},
     "output_type": "execute_result"
    }
   ],
   "source": [
    "df[['limite_credito', 'valor_transacoes_12m']].head(n=5)"
   ]
  },
  {
   "cell_type": "code",
   "execution_count": 16,
   "id": "7ea2b7f4",
   "metadata": {
    "execution": {
     "iopub.execute_input": "2023-12-16T19:37:01.428152Z",
     "iopub.status.busy": "2023-12-16T19:37:01.427844Z",
     "iopub.status.idle": "2023-12-16T19:37:01.443150Z",
     "shell.execute_reply": "2023-12-16T19:37:01.442171Z"
    },
    "papermill": {
     "duration": 0.029955,
     "end_time": "2023-12-16T19:37:01.444756",
     "exception": false,
     "start_time": "2023-12-16T19:37:01.414801",
     "status": "completed"
    },
    "tags": []
   },
   "outputs": [],
   "source": [
    "df['valor_transacoes_12m'] = df['valor_transacoes_12m'].apply(lambda valor: float(valor.replace(\".\", \"\").replace(\",\", \".\")))        \n",
    "df['limite_credito'] = df['limite_credito'].apply(lambda valor: float(valor.replace(\".\", \"\").replace(\",\", \".\")))"
   ]
  },
  {
   "cell_type": "code",
   "execution_count": 17,
   "id": "9adf4dc3",
   "metadata": {
    "execution": {
     "iopub.execute_input": "2023-12-16T19:37:01.471015Z",
     "iopub.status.busy": "2023-12-16T19:37:01.470491Z",
     "iopub.status.idle": "2023-12-16T19:37:01.476848Z",
     "shell.execute_reply": "2023-12-16T19:37:01.476061Z"
    },
    "papermill": {
     "duration": 0.021458,
     "end_time": "2023-12-16T19:37:01.478840",
     "exception": false,
     "start_time": "2023-12-16T19:37:01.457382",
     "status": "completed"
    },
    "tags": []
   },
   "outputs": [
    {
     "data": {
      "text/plain": [
       "id                           int64\n",
       "default                      int64\n",
       "idade                        int64\n",
       "sexo                        object\n",
       "dependentes                  int64\n",
       "escolaridade                object\n",
       "estado_civil                object\n",
       "salario_anual               object\n",
       "tipo_cartao                 object\n",
       "meses_de_relacionamento      int64\n",
       "qtd_produtos                 int64\n",
       "iteracoes_12m                int64\n",
       "meses_inativo_12m            int64\n",
       "limite_credito             float64\n",
       "valor_transacoes_12m       float64\n",
       "qtd_transacoes_12m           int64\n",
       "dtype: object"
      ]
     },
     "execution_count": 17,
     "metadata": {},
     "output_type": "execute_result"
    }
   ],
   "source": [
    "# Schema após transformação dos dados\n",
    "df.dtypes"
   ]
  },
  {
   "cell_type": "markdown",
   "id": "4d94cb58",
   "metadata": {
    "papermill": {
     "duration": 0.012078,
     "end_time": "2023-12-16T19:37:01.504020",
     "exception": false,
     "start_time": "2023-12-16T19:37:01.491942",
     "status": "completed"
    },
    "tags": []
   },
   "source": [
    "- Atributos categóricos"
   ]
  },
  {
   "cell_type": "code",
   "execution_count": 18,
   "id": "24379519",
   "metadata": {
    "execution": {
     "iopub.execute_input": "2023-12-16T19:37:01.530876Z",
     "iopub.status.busy": "2023-12-16T19:37:01.529873Z",
     "iopub.status.idle": "2023-12-16T19:37:01.549817Z",
     "shell.execute_reply": "2023-12-16T19:37:01.549089Z"
    },
    "papermill": {
     "duration": 0.035168,
     "end_time": "2023-12-16T19:37:01.551526",
     "exception": false,
     "start_time": "2023-12-16T19:37:01.516358",
     "status": "completed"
    },
    "tags": []
   },
   "outputs": [
    {
     "data": {
      "text/html": [
       "<div>\n",
       "<style scoped>\n",
       "    .dataframe tbody tr th:only-of-type {\n",
       "        vertical-align: middle;\n",
       "    }\n",
       "\n",
       "    .dataframe tbody tr th {\n",
       "        vertical-align: top;\n",
       "    }\n",
       "\n",
       "    .dataframe thead th {\n",
       "        text-align: right;\n",
       "    }\n",
       "</style>\n",
       "<table border=\"1\" class=\"dataframe\">\n",
       "  <thead>\n",
       "    <tr style=\"text-align: right;\">\n",
       "      <th></th>\n",
       "      <th>count</th>\n",
       "      <th>unique</th>\n",
       "      <th>top</th>\n",
       "      <th>freq</th>\n",
       "    </tr>\n",
       "  </thead>\n",
       "  <tbody>\n",
       "    <tr>\n",
       "      <th>sexo</th>\n",
       "      <td>10127</td>\n",
       "      <td>2</td>\n",
       "      <td>F</td>\n",
       "      <td>5358</td>\n",
       "    </tr>\n",
       "    <tr>\n",
       "      <th>escolaridade</th>\n",
       "      <td>8608</td>\n",
       "      <td>5</td>\n",
       "      <td>mestrado</td>\n",
       "      <td>3128</td>\n",
       "    </tr>\n",
       "    <tr>\n",
       "      <th>estado_civil</th>\n",
       "      <td>9378</td>\n",
       "      <td>3</td>\n",
       "      <td>casado</td>\n",
       "      <td>4687</td>\n",
       "    </tr>\n",
       "    <tr>\n",
       "      <th>salario_anual</th>\n",
       "      <td>9015</td>\n",
       "      <td>5</td>\n",
       "      <td>menos que $40K</td>\n",
       "      <td>3561</td>\n",
       "    </tr>\n",
       "    <tr>\n",
       "      <th>tipo_cartao</th>\n",
       "      <td>10127</td>\n",
       "      <td>4</td>\n",
       "      <td>blue</td>\n",
       "      <td>9436</td>\n",
       "    </tr>\n",
       "  </tbody>\n",
       "</table>\n",
       "</div>"
      ],
      "text/plain": [
       "               count unique             top  freq\n",
       "sexo           10127      2               F  5358\n",
       "escolaridade    8608      5        mestrado  3128\n",
       "estado_civil    9378      3          casado  4687\n",
       "salario_anual   9015      5  menos que $40K  3561\n",
       "tipo_cartao    10127      4            blue  9436"
      ]
     },
     "execution_count": 18,
     "metadata": {},
     "output_type": "execute_result"
    }
   ],
   "source": [
    "df.select_dtypes('object').describe().transpose()"
   ]
  },
  {
   "cell_type": "markdown",
   "id": "2b44b909",
   "metadata": {
    "papermill": {
     "duration": 0.012163,
     "end_time": "2023-12-16T19:37:01.576509",
     "exception": false,
     "start_time": "2023-12-16T19:37:01.564346",
     "status": "completed"
    },
    "tags": []
   },
   "source": [
    "- Atributos numéricos"
   ]
  },
  {
   "cell_type": "code",
   "execution_count": 19,
   "id": "f7f97e8c",
   "metadata": {
    "execution": {
     "iopub.execute_input": "2023-12-16T19:37:01.603381Z",
     "iopub.status.busy": "2023-12-16T19:37:01.602300Z",
     "iopub.status.idle": "2023-12-16T19:37:01.637272Z",
     "shell.execute_reply": "2023-12-16T19:37:01.636644Z"
    },
    "papermill": {
     "duration": 0.050173,
     "end_time": "2023-12-16T19:37:01.638855",
     "exception": false,
     "start_time": "2023-12-16T19:37:01.588682",
     "status": "completed"
    },
    "tags": []
   },
   "outputs": [
    {
     "data": {
      "text/html": [
       "<div>\n",
       "<style scoped>\n",
       "    .dataframe tbody tr th:only-of-type {\n",
       "        vertical-align: middle;\n",
       "    }\n",
       "\n",
       "    .dataframe tbody tr th {\n",
       "        vertical-align: top;\n",
       "    }\n",
       "\n",
       "    .dataframe thead th {\n",
       "        text-align: right;\n",
       "    }\n",
       "</style>\n",
       "<table border=\"1\" class=\"dataframe\">\n",
       "  <thead>\n",
       "    <tr style=\"text-align: right;\">\n",
       "      <th></th>\n",
       "      <th>count</th>\n",
       "      <th>mean</th>\n",
       "      <th>std</th>\n",
       "      <th>min</th>\n",
       "      <th>25%</th>\n",
       "      <th>50%</th>\n",
       "      <th>75%</th>\n",
       "      <th>max</th>\n",
       "    </tr>\n",
       "  </thead>\n",
       "  <tbody>\n",
       "    <tr>\n",
       "      <th>default</th>\n",
       "      <td>10127.0</td>\n",
       "      <td>0.160660</td>\n",
       "      <td>0.367235</td>\n",
       "      <td>0.00</td>\n",
       "      <td>0.000</td>\n",
       "      <td>0.00</td>\n",
       "      <td>0.000</td>\n",
       "      <td>1.00</td>\n",
       "    </tr>\n",
       "    <tr>\n",
       "      <th>idade</th>\n",
       "      <td>10127.0</td>\n",
       "      <td>46.325960</td>\n",
       "      <td>8.016814</td>\n",
       "      <td>26.00</td>\n",
       "      <td>41.000</td>\n",
       "      <td>46.00</td>\n",
       "      <td>52.000</td>\n",
       "      <td>73.00</td>\n",
       "    </tr>\n",
       "    <tr>\n",
       "      <th>dependentes</th>\n",
       "      <td>10127.0</td>\n",
       "      <td>2.346203</td>\n",
       "      <td>1.298908</td>\n",
       "      <td>0.00</td>\n",
       "      <td>1.000</td>\n",
       "      <td>2.00</td>\n",
       "      <td>3.000</td>\n",
       "      <td>5.00</td>\n",
       "    </tr>\n",
       "    <tr>\n",
       "      <th>meses_de_relacionamento</th>\n",
       "      <td>10127.0</td>\n",
       "      <td>35.928409</td>\n",
       "      <td>7.986416</td>\n",
       "      <td>13.00</td>\n",
       "      <td>31.000</td>\n",
       "      <td>36.00</td>\n",
       "      <td>40.000</td>\n",
       "      <td>56.00</td>\n",
       "    </tr>\n",
       "    <tr>\n",
       "      <th>qtd_produtos</th>\n",
       "      <td>10127.0</td>\n",
       "      <td>3.812580</td>\n",
       "      <td>1.554408</td>\n",
       "      <td>1.00</td>\n",
       "      <td>3.000</td>\n",
       "      <td>4.00</td>\n",
       "      <td>5.000</td>\n",
       "      <td>6.00</td>\n",
       "    </tr>\n",
       "    <tr>\n",
       "      <th>iteracoes_12m</th>\n",
       "      <td>10127.0</td>\n",
       "      <td>2.455317</td>\n",
       "      <td>1.106225</td>\n",
       "      <td>0.00</td>\n",
       "      <td>2.000</td>\n",
       "      <td>2.00</td>\n",
       "      <td>3.000</td>\n",
       "      <td>6.00</td>\n",
       "    </tr>\n",
       "    <tr>\n",
       "      <th>meses_inativo_12m</th>\n",
       "      <td>10127.0</td>\n",
       "      <td>2.341167</td>\n",
       "      <td>1.010622</td>\n",
       "      <td>0.00</td>\n",
       "      <td>2.000</td>\n",
       "      <td>2.00</td>\n",
       "      <td>3.000</td>\n",
       "      <td>6.00</td>\n",
       "    </tr>\n",
       "    <tr>\n",
       "      <th>limite_credito</th>\n",
       "      <td>10127.0</td>\n",
       "      <td>8632.440165</td>\n",
       "      <td>9088.788041</td>\n",
       "      <td>1438.00</td>\n",
       "      <td>2555.355</td>\n",
       "      <td>4549.42</td>\n",
       "      <td>11068.175</td>\n",
       "      <td>34516.99</td>\n",
       "    </tr>\n",
       "    <tr>\n",
       "      <th>valor_transacoes_12m</th>\n",
       "      <td>10127.0</td>\n",
       "      <td>4404.583047</td>\n",
       "      <td>3397.128078</td>\n",
       "      <td>510.16</td>\n",
       "      <td>2155.825</td>\n",
       "      <td>3899.59</td>\n",
       "      <td>4741.310</td>\n",
       "      <td>18484.93</td>\n",
       "    </tr>\n",
       "    <tr>\n",
       "      <th>qtd_transacoes_12m</th>\n",
       "      <td>10127.0</td>\n",
       "      <td>64.858695</td>\n",
       "      <td>23.472570</td>\n",
       "      <td>10.00</td>\n",
       "      <td>45.000</td>\n",
       "      <td>67.00</td>\n",
       "      <td>81.000</td>\n",
       "      <td>139.00</td>\n",
       "    </tr>\n",
       "  </tbody>\n",
       "</table>\n",
       "</div>"
      ],
      "text/plain": [
       "                           count         mean          std      min       25%  \\\n",
       "default                  10127.0     0.160660     0.367235     0.00     0.000   \n",
       "idade                    10127.0    46.325960     8.016814    26.00    41.000   \n",
       "dependentes              10127.0     2.346203     1.298908     0.00     1.000   \n",
       "meses_de_relacionamento  10127.0    35.928409     7.986416    13.00    31.000   \n",
       "qtd_produtos             10127.0     3.812580     1.554408     1.00     3.000   \n",
       "iteracoes_12m            10127.0     2.455317     1.106225     0.00     2.000   \n",
       "meses_inativo_12m        10127.0     2.341167     1.010622     0.00     2.000   \n",
       "limite_credito           10127.0  8632.440165  9088.788041  1438.00  2555.355   \n",
       "valor_transacoes_12m     10127.0  4404.583047  3397.128078   510.16  2155.825   \n",
       "qtd_transacoes_12m       10127.0    64.858695    23.472570    10.00    45.000   \n",
       "\n",
       "                             50%        75%       max  \n",
       "default                     0.00      0.000      1.00  \n",
       "idade                      46.00     52.000     73.00  \n",
       "dependentes                 2.00      3.000      5.00  \n",
       "meses_de_relacionamento    36.00     40.000     56.00  \n",
       "qtd_produtos                4.00      5.000      6.00  \n",
       "iteracoes_12m               2.00      3.000      6.00  \n",
       "meses_inativo_12m           2.00      3.000      6.00  \n",
       "limite_credito           4549.42  11068.175  34516.99  \n",
       "valor_transacoes_12m     3899.59   4741.310  18484.93  \n",
       "qtd_transacoes_12m         67.00     81.000    139.00  "
      ]
     },
     "execution_count": 19,
     "metadata": {},
     "output_type": "execute_result"
    }
   ],
   "source": [
    "df.drop('id', axis=1).select_dtypes('number').describe().transpose()"
   ]
  },
  {
   "cell_type": "markdown",
   "id": "1c880b17",
   "metadata": {
    "papermill": {
     "duration": 0.01222,
     "end_time": "2023-12-16T19:37:01.663982",
     "exception": false,
     "start_time": "2023-12-16T19:37:01.651762",
     "status": "completed"
    },
    "tags": []
   },
   "source": [
    "## 7.1 Remoção dos dados nulos"
   ]
  },
  {
   "cell_type": "code",
   "execution_count": 20,
   "id": "d2bb7464",
   "metadata": {
    "execution": {
     "iopub.execute_input": "2023-12-16T19:37:01.690894Z",
     "iopub.status.busy": "2023-12-16T19:37:01.689967Z",
     "iopub.status.idle": "2023-12-16T19:37:01.698690Z",
     "shell.execute_reply": "2023-12-16T19:37:01.697699Z"
    },
    "papermill": {
     "duration": 0.024138,
     "end_time": "2023-12-16T19:37:01.700503",
     "exception": false,
     "start_time": "2023-12-16T19:37:01.676365",
     "status": "completed"
    },
    "tags": []
   },
   "outputs": [],
   "source": [
    "df.dropna(inplace=True)"
   ]
  },
  {
   "cell_type": "code",
   "execution_count": 21,
   "id": "d5377596",
   "metadata": {
    "execution": {
     "iopub.execute_input": "2023-12-16T19:37:01.727194Z",
     "iopub.status.busy": "2023-12-16T19:37:01.726883Z",
     "iopub.status.idle": "2023-12-16T19:37:01.732528Z",
     "shell.execute_reply": "2023-12-16T19:37:01.731646Z"
    },
    "papermill": {
     "duration": 0.021116,
     "end_time": "2023-12-16T19:37:01.734301",
     "exception": false,
     "start_time": "2023-12-16T19:37:01.713185",
     "status": "completed"
    },
    "tags": []
   },
   "outputs": [
    {
     "data": {
      "text/plain": [
       "(7081, 16)"
      ]
     },
     "execution_count": 21,
     "metadata": {},
     "output_type": "execute_result"
    }
   ],
   "source": [
    "df.shape"
   ]
  },
  {
   "cell_type": "code",
   "execution_count": 22,
   "id": "343c20dd",
   "metadata": {
    "execution": {
     "iopub.execute_input": "2023-12-16T19:37:01.761170Z",
     "iopub.status.busy": "2023-12-16T19:37:01.760199Z",
     "iopub.status.idle": "2023-12-16T19:37:01.767323Z",
     "shell.execute_reply": "2023-12-16T19:37:01.766529Z"
    },
    "papermill": {
     "duration": 0.022226,
     "end_time": "2023-12-16T19:37:01.768987",
     "exception": false,
     "start_time": "2023-12-16T19:37:01.746761",
     "status": "completed"
    },
    "tags": []
   },
   "outputs": [
    {
     "data": {
      "text/plain": [
       "(5968, 16)"
      ]
     },
     "execution_count": 22,
     "metadata": {},
     "output_type": "execute_result"
    }
   ],
   "source": [
    "df[df['default'] == 0].shape"
   ]
  },
  {
   "cell_type": "code",
   "execution_count": 23,
   "id": "e3870753",
   "metadata": {
    "execution": {
     "iopub.execute_input": "2023-12-16T19:37:01.795494Z",
     "iopub.status.busy": "2023-12-16T19:37:01.795211Z",
     "iopub.status.idle": "2023-12-16T19:37:01.801678Z",
     "shell.execute_reply": "2023-12-16T19:37:01.800895Z"
    },
    "papermill": {
     "duration": 0.022256,
     "end_time": "2023-12-16T19:37:01.803957",
     "exception": false,
     "start_time": "2023-12-16T19:37:01.781701",
     "status": "completed"
    },
    "tags": []
   },
   "outputs": [
    {
     "data": {
      "text/plain": [
       "(1113, 16)"
      ]
     },
     "execution_count": 23,
     "metadata": {},
     "output_type": "execute_result"
    }
   ],
   "source": [
    "df[df['default'] == 1].shape"
   ]
  },
  {
   "cell_type": "code",
   "execution_count": 24,
   "id": "98812ba3",
   "metadata": {
    "execution": {
     "iopub.execute_input": "2023-12-16T19:37:01.833851Z",
     "iopub.status.busy": "2023-12-16T19:37:01.833102Z",
     "iopub.status.idle": "2023-12-16T19:37:01.840095Z",
     "shell.execute_reply": "2023-12-16T19:37:01.839121Z"
    },
    "papermill": {
     "duration": 0.023321,
     "end_time": "2023-12-16T19:37:01.842132",
     "exception": false,
     "start_time": "2023-12-16T19:37:01.818811",
     "status": "completed"
    },
    "tags": []
   },
   "outputs": [],
   "source": [
    "quantidade_total_novo, _ = df.shape\n",
    "quantidade_adimplentes_novo, _ = df[df['default'] == 0].shape\n",
    "quantidade_inadimplentes_novo, _ = df[df['default'] == 1].shape"
   ]
  },
  {
   "cell_type": "code",
   "execution_count": 25,
   "id": "09d89d45",
   "metadata": {
    "execution": {
     "iopub.execute_input": "2023-12-16T19:37:01.871831Z",
     "iopub.status.busy": "2023-12-16T19:37:01.871460Z",
     "iopub.status.idle": "2023-12-16T19:37:01.877157Z",
     "shell.execute_reply": "2023-12-16T19:37:01.876231Z"
    },
    "papermill": {
     "duration": 0.02303,
     "end_time": "2023-12-16T19:37:01.878722",
     "exception": false,
     "start_time": "2023-12-16T19:37:01.855692",
     "status": "completed"
    },
    "tags": []
   },
   "outputs": [
    {
     "name": "stdout",
     "output_type": "stream",
     "text": [
      "A proporcão adimplentes ativos é de 83.93%\n",
      "A nova proporcão de clientes adimplentes é de 84.28%\n",
      "\n",
      "A proporcão clientes inadimplentes é de 16.07%\n",
      "A nova proporcão de clientes inadimplentes é de 15.72%\n"
     ]
    }
   ],
   "source": [
    "print(f\"A proporcão adimplentes ativos é de {round(100 * quantidade_adimplentes / quant_linhas, 2)}%\")\n",
    "print(f\"A nova proporcão de clientes adimplentes é de {round(100 * quantidade_adimplentes_novo / quantidade_total_novo, 2)}%\")\n",
    "print(\"\")\n",
    "print(f\"A proporcão clientes inadimplentes é de {round(100 * quantidade_inadimplentes / quant_linhas, 2)}%\")\n",
    "print(f\"A nova proporcão de clientes inadimplentes é de {round(100 * quantidade_inadimplentes_novo / quantidade_total_novo, 2)}%\")"
   ]
  },
  {
   "cell_type": "code",
   "execution_count": 26,
   "id": "c9559487",
   "metadata": {
    "execution": {
     "iopub.execute_input": "2023-12-16T19:37:01.906128Z",
     "iopub.status.busy": "2023-12-16T19:37:01.905323Z",
     "iopub.status.idle": "2023-12-16T19:37:02.002620Z",
     "shell.execute_reply": "2023-12-16T19:37:02.002019Z"
    },
    "papermill": {
     "duration": 0.11263,
     "end_time": "2023-12-16T19:37:02.004443",
     "exception": false,
     "start_time": "2023-12-16T19:37:01.891813",
     "status": "completed"
    },
    "tags": []
   },
   "outputs": [
    {
     "data": {
      "image/png": "[encoded data removed]",
      "text/plain": [
       "<Figure size 640x480 with 1 Axes>"
      ]
     },
     "metadata": {},
     "output_type": "display_data"
    }
   ],
   "source": [
    "data = [quantidade_adimplentes_novo, quantidade_inadimplentes_novo] \n",
    "keys = ['Clientes adimplentes (novo)', 'Clientes inadimplentes (novo)'] \n",
    "\n",
    "explode = [0, 0.2] \n",
    "  \n",
    "palette_color = sns.color_palette('coolwarm') \n",
    "  \n",
    "plt.pie(data, labels=keys, colors=palette_color, explode=explode, autopct='%.0f%%') \n",
    "\n",
    "plt.title('Distribuição de Clientes Adimplentes e Inadimplentes (Novo)')\n",
    "  \n",
    "plt.show() "
   ]
  },
  {
   "cell_type": "markdown",
   "id": "e831762c",
   "metadata": {
    "papermill": {
     "duration": 0.016699,
     "end_time": "2023-12-16T19:37:02.039455",
     "exception": false,
     "start_time": "2023-12-16T19:37:02.022756",
     "status": "completed"
    },
    "tags": []
   },
   "source": [
    "# <span style=\"color: #9370DB;\">8.0 Etapa de análise</span>"
   ]
  },
  {
   "cell_type": "code",
   "execution_count": 27,
   "id": "ba5b3bdc",
   "metadata": {
    "execution": {
     "iopub.execute_input": "2023-12-16T19:37:02.077760Z",
     "iopub.status.busy": "2023-12-16T19:37:02.077166Z",
     "iopub.status.idle": "2023-12-16T19:37:02.083194Z",
     "shell.execute_reply": "2023-12-16T19:37:02.082613Z"
    },
    "papermill": {
     "duration": 0.026906,
     "end_time": "2023-12-16T19:37:02.085030",
     "exception": false,
     "start_time": "2023-12-16T19:37:02.058124",
     "status": "completed"
    },
    "tags": []
   },
   "outputs": [],
   "source": [
    "sns.set_style(\"darkgrid\")\n",
    "\n",
    "df_adimplente = df[df['default'] == 0]\n",
    "\n",
    "df_inadimplente = df[df['default'] == 1]"
   ]
  },
  {
   "cell_type": "markdown",
   "id": "b84041d5",
   "metadata": {
    "papermill": {
     "duration": 0.013491,
     "end_time": "2023-12-16T19:37:02.112793",
     "exception": false,
     "start_time": "2023-12-16T19:37:02.099302",
     "status": "completed"
    },
    "tags": []
   },
   "source": [
    "## 8.1 Visualizações dos atributos categóricos"
   ]
  },
  {
   "cell_type": "code",
   "execution_count": 28,
   "id": "5b2bd88c",
   "metadata": {
    "execution": {
     "iopub.execute_input": "2023-12-16T19:37:02.142360Z",
     "iopub.status.busy": "2023-12-16T19:37:02.141828Z",
     "iopub.status.idle": "2023-12-16T19:37:02.157950Z",
     "shell.execute_reply": "2023-12-16T19:37:02.157034Z"
    },
    "papermill": {
     "duration": 0.032348,
     "end_time": "2023-12-16T19:37:02.159475",
     "exception": false,
     "start_time": "2023-12-16T19:37:02.127127",
     "status": "completed"
    },
    "tags": []
   },
   "outputs": [
    {
     "data": {
      "text/html": [
       "<div>\n",
       "<style scoped>\n",
       "    .dataframe tbody tr th:only-of-type {\n",
       "        vertical-align: middle;\n",
       "    }\n",
       "\n",
       "    .dataframe tbody tr th {\n",
       "        vertical-align: top;\n",
       "    }\n",
       "\n",
       "    .dataframe thead th {\n",
       "        text-align: right;\n",
       "    }\n",
       "</style>\n",
       "<table border=\"1\" class=\"dataframe\">\n",
       "  <thead>\n",
       "    <tr style=\"text-align: right;\">\n",
       "      <th></th>\n",
       "      <th>count</th>\n",
       "      <th>unique</th>\n",
       "      <th>top</th>\n",
       "      <th>freq</th>\n",
       "    </tr>\n",
       "  </thead>\n",
       "  <tbody>\n",
       "    <tr>\n",
       "      <th>escolaridade</th>\n",
       "      <td>7081</td>\n",
       "      <td>5</td>\n",
       "      <td>mestrado</td>\n",
       "      <td>2591</td>\n",
       "    </tr>\n",
       "    <tr>\n",
       "      <th>estado_civil</th>\n",
       "      <td>7081</td>\n",
       "      <td>3</td>\n",
       "      <td>casado</td>\n",
       "      <td>3564</td>\n",
       "    </tr>\n",
       "    <tr>\n",
       "      <th>salario_anual</th>\n",
       "      <td>7081</td>\n",
       "      <td>5</td>\n",
       "      <td>menos que $40K</td>\n",
       "      <td>2792</td>\n",
       "    </tr>\n",
       "    <tr>\n",
       "      <th>tipo_cartao</th>\n",
       "      <td>7081</td>\n",
       "      <td>4</td>\n",
       "      <td>blue</td>\n",
       "      <td>6598</td>\n",
       "    </tr>\n",
       "  </tbody>\n",
       "</table>\n",
       "</div>"
      ],
      "text/plain": [
       "              count unique             top  freq\n",
       "escolaridade   7081      5        mestrado  2591\n",
       "estado_civil   7081      3          casado  3564\n",
       "salario_anual  7081      5  menos que $40K  2792\n",
       "tipo_cartao    7081      4            blue  6598"
      ]
     },
     "execution_count": 28,
     "metadata": {},
     "output_type": "execute_result"
    }
   ],
   "source": [
    "df.drop('sexo', axis=1).select_dtypes('object').describe().transpose() "
   ]
  },
  {
   "cell_type": "markdown",
   "id": "d4c8b99a",
   "metadata": {
    "papermill": {
     "duration": 0.012939,
     "end_time": "2023-12-16T19:37:02.186003",
     "exception": false,
     "start_time": "2023-12-16T19:37:02.173064",
     "status": "completed"
    },
    "tags": []
   },
   "source": [
    "Não foi encontrada nenhuma relação entre os atributos categóricos com à variável resposta **default**.\n"
   ]
  },
  {
   "cell_type": "markdown",
   "id": "88ccccdf",
   "metadata": {
    "papermill": {
     "duration": 0.01298,
     "end_time": "2023-12-16T19:37:02.212279",
     "exception": false,
     "start_time": "2023-12-16T19:37:02.199299",
     "status": "completed"
    },
    "tags": []
   },
   "source": [
    "## 8.2 Visualizações dos atributos numéricos"
   ]
  },
  {
   "cell_type": "code",
   "execution_count": 29,
   "id": "4d7783a9",
   "metadata": {
    "execution": {
     "iopub.execute_input": "2023-12-16T19:37:02.241509Z",
     "iopub.status.busy": "2023-12-16T19:37:02.240640Z",
     "iopub.status.idle": "2023-12-16T19:37:02.252931Z",
     "shell.execute_reply": "2023-12-16T19:37:02.252103Z"
    },
    "papermill": {
     "duration": 0.02898,
     "end_time": "2023-12-16T19:37:02.254539",
     "exception": false,
     "start_time": "2023-12-16T19:37:02.225559",
     "status": "completed"
    },
    "tags": []
   },
   "outputs": [
    {
     "data": {
      "text/html": [
       "<div>\n",
       "<style scoped>\n",
       "    .dataframe tbody tr th:only-of-type {\n",
       "        vertical-align: middle;\n",
       "    }\n",
       "\n",
       "    .dataframe tbody tr th {\n",
       "        vertical-align: top;\n",
       "    }\n",
       "\n",
       "    .dataframe thead th {\n",
       "        text-align: right;\n",
       "    }\n",
       "</style>\n",
       "<table border=\"1\" class=\"dataframe\">\n",
       "  <thead>\n",
       "    <tr style=\"text-align: right;\">\n",
       "      <th></th>\n",
       "      <th>idade</th>\n",
       "      <th>dependentes</th>\n",
       "      <th>meses_de_relacionamento</th>\n",
       "      <th>qtd_produtos</th>\n",
       "      <th>iteracoes_12m</th>\n",
       "      <th>meses_inativo_12m</th>\n",
       "      <th>limite_credito</th>\n",
       "      <th>valor_transacoes_12m</th>\n",
       "      <th>qtd_transacoes_12m</th>\n",
       "    </tr>\n",
       "  </thead>\n",
       "  <tbody>\n",
       "    <tr>\n",
       "      <th>0</th>\n",
       "      <td>45</td>\n",
       "      <td>3</td>\n",
       "      <td>39</td>\n",
       "      <td>5</td>\n",
       "      <td>3</td>\n",
       "      <td>1</td>\n",
       "      <td>12691.51</td>\n",
       "      <td>1144.90</td>\n",
       "      <td>42</td>\n",
       "    </tr>\n",
       "    <tr>\n",
       "      <th>1</th>\n",
       "      <td>49</td>\n",
       "      <td>5</td>\n",
       "      <td>44</td>\n",
       "      <td>6</td>\n",
       "      <td>2</td>\n",
       "      <td>1</td>\n",
       "      <td>8256.96</td>\n",
       "      <td>1291.45</td>\n",
       "      <td>33</td>\n",
       "    </tr>\n",
       "    <tr>\n",
       "      <th>2</th>\n",
       "      <td>51</td>\n",
       "      <td>3</td>\n",
       "      <td>36</td>\n",
       "      <td>4</td>\n",
       "      <td>0</td>\n",
       "      <td>1</td>\n",
       "      <td>3418.56</td>\n",
       "      <td>1887.72</td>\n",
       "      <td>20</td>\n",
       "    </tr>\n",
       "    <tr>\n",
       "      <th>4</th>\n",
       "      <td>40</td>\n",
       "      <td>3</td>\n",
       "      <td>21</td>\n",
       "      <td>5</td>\n",
       "      <td>0</td>\n",
       "      <td>1</td>\n",
       "      <td>4716.22</td>\n",
       "      <td>816.08</td>\n",
       "      <td>28</td>\n",
       "    </tr>\n",
       "    <tr>\n",
       "      <th>5</th>\n",
       "      <td>44</td>\n",
       "      <td>2</td>\n",
       "      <td>36</td>\n",
       "      <td>3</td>\n",
       "      <td>2</td>\n",
       "      <td>1</td>\n",
       "      <td>4010.69</td>\n",
       "      <td>1088.07</td>\n",
       "      <td>24</td>\n",
       "    </tr>\n",
       "  </tbody>\n",
       "</table>\n",
       "</div>"
      ],
      "text/plain": [
       "   idade  dependentes  meses_de_relacionamento  qtd_produtos  iteracoes_12m  \\\n",
       "0     45            3                       39             5              3   \n",
       "1     49            5                       44             6              2   \n",
       "2     51            3                       36             4              0   \n",
       "4     40            3                       21             5              0   \n",
       "5     44            2                       36             3              2   \n",
       "\n",
       "   meses_inativo_12m  limite_credito  valor_transacoes_12m  qtd_transacoes_12m  \n",
       "0                  1        12691.51               1144.90                  42  \n",
       "1                  1         8256.96               1291.45                  33  \n",
       "2                  1         3418.56               1887.72                  20  \n",
       "4                  1         4716.22                816.08                  28  \n",
       "5                  1         4010.69               1088.07                  24  "
      ]
     },
     "execution_count": 29,
     "metadata": {},
     "output_type": "execute_result"
    }
   ],
   "source": [
    "df.drop(['id', 'default'], axis=1).select_dtypes('number').head(n=5)"
   ]
  },
  {
   "cell_type": "markdown",
   "id": "9082b4cb",
   "metadata": {
    "papermill": {
     "duration": 0.013387,
     "end_time": "2023-12-16T19:37:02.281740",
     "exception": false,
     "start_time": "2023-12-16T19:37:02.268353",
     "status": "completed"
    },
    "tags": []
   },
   "source": [
    "Foi verificada a relação das colunas 'qtd_transacoes_12m' e 'valor_transacoes_12m' com à variável **default**:"
   ]
  },
  {
   "cell_type": "code",
   "execution_count": 30,
   "id": "c8c4bb0a",
   "metadata": {
    "execution": {
     "iopub.execute_input": "2023-12-16T19:37:02.310347Z",
     "iopub.status.busy": "2023-12-16T19:37:02.310023Z",
     "iopub.status.idle": "2023-12-16T19:37:03.296902Z",
     "shell.execute_reply": "2023-12-16T19:37:03.296018Z"
    },
    "papermill": {
     "duration": 1.0032,
     "end_time": "2023-12-16T19:37:03.298570",
     "exception": false,
     "start_time": "2023-12-16T19:37:02.295370",
     "status": "completed"
    },
    "tags": []
   },
   "outputs": [
    {
     "data": {
      "image/png": "[encoded data removed]",
      "text/plain": [
       "<Figure size 2000x500 with 3 Axes>"
      ]
     },
     "metadata": {},
     "output_type": "display_data"
    }
   ],
   "source": [
    "coluna = 'qtd_transacoes_12m'\n",
    "titulos = ['Qtd. de Transações no Último Ano', 'Qtd. de Transações no Último Ano de Adimplentes', 'Qtd. de Transações no Último Ano de Inadimplentes']\n",
    "\n",
    "eixo = 0\n",
    "max_y = 0\n",
    "figura, eixos = plt.subplots(1,3, figsize=(20, 5), sharex=True)\n",
    "\n",
    "for dataframe in [df, df_adimplente, df_inadimplente]:\n",
    "\n",
    "  f = sns.histplot(x=coluna, data=dataframe, stat='count', ax=eixos[eixo])\n",
    "  f.set(title=titulos[eixo], xlabel=coluna.capitalize(), ylabel='Frequência Absoluta')\n",
    "\n",
    "  _, max_y_f = f.get_ylim()\n",
    "  max_y = max_y_f if max_y_f > max_y else max_y\n",
    "  f.set(ylim=(0, max_y))\n",
    "\n",
    "  eixo += 1\n",
    "\n",
    "figura.show()"
   ]
  },
  {
   "cell_type": "markdown",
   "id": "cd7273a3",
   "metadata": {
    "papermill": {
     "duration": 0.014584,
     "end_time": "2023-12-16T19:37:03.327849",
     "exception": false,
     "start_time": "2023-12-16T19:37:03.313265",
     "status": "completed"
    },
    "tags": []
   },
   "source": [
    "- **Pode-se verificar uma tendência ao default entre os clientes com quantidade de transações entre 20 e 60.**"
   ]
  },
  {
   "cell_type": "code",
   "execution_count": 31,
   "id": "416d0f4f",
   "metadata": {
    "execution": {
     "iopub.execute_input": "2023-12-16T19:37:03.358488Z",
     "iopub.status.busy": "2023-12-16T19:37:03.358143Z",
     "iopub.status.idle": "2023-12-16T19:37:04.516488Z",
     "shell.execute_reply": "2023-12-16T19:37:04.515578Z"
    },
    "papermill": {
     "duration": 1.175783,
     "end_time": "2023-12-16T19:37:04.518272",
     "exception": false,
     "start_time": "2023-12-16T19:37:03.342489",
     "status": "completed"
    },
    "tags": []
   },
   "outputs": [
    {
     "data": {
      "image/png": "[encoded data removed]",
      "text/plain": [
       "<Figure size 2000x500 with 3 Axes>"
      ]
     },
     "metadata": {},
     "output_type": "display_data"
    }
   ],
   "source": [
    "coluna = 'valor_transacoes_12m'\n",
    "titulos = ['Valor das Transações no Último Ano', 'Valor das Transações no Último Ano de Adimplentes', 'Valor das Transações no Último Ano de Inadimplentes']\n",
    "\n",
    "eixo = 0\n",
    "max_y = 0\n",
    "figura, eixos = plt.subplots(1,3, figsize=(20, 5), sharex=True)\n",
    "\n",
    "for dataframe in [df, df_adimplente, df_inadimplente]:\n",
    "\n",
    "  f = sns.histplot(x=coluna, data=dataframe, stat='count', ax=eixos[eixo])\n",
    "  f.set(title=titulos[eixo], xlabel=coluna.capitalize(), ylabel='Frequência Absoluta')\n",
    "\n",
    "  _, max_y_f = f.get_ylim()\n",
    "  max_y = max_y_f if max_y_f > max_y else max_y\n",
    "  f.set(ylim=(0, max_y))\n",
    "\n",
    "  eixo += 1\n",
    "\n",
    "figura.show()"
   ]
  },
  {
   "cell_type": "markdown",
   "id": "4e21312d",
   "metadata": {
    "papermill": {
     "duration": 0.014082,
     "end_time": "2023-12-16T19:37:04.547412",
     "exception": false,
     "start_time": "2023-12-16T19:37:04.533330",
     "status": "completed"
    },
    "tags": []
   },
   "source": [
    "- **Pode-se verificar uma tendência ao default entre os clientes com valor de transções no último ano de 1.000 a 3.000 reais**"
   ]
  },
  {
   "cell_type": "code",
   "execution_count": 32,
   "id": "a782bc8c",
   "metadata": {
    "execution": {
     "iopub.execute_input": "2023-12-16T19:37:04.578460Z",
     "iopub.status.busy": "2023-12-16T19:37:04.578075Z",
     "iopub.status.idle": "2023-12-16T19:37:05.636747Z",
     "shell.execute_reply": "2023-12-16T19:37:05.635809Z"
    },
    "papermill": {
     "duration": 1.076723,
     "end_time": "2023-12-16T19:37:05.638468",
     "exception": false,
     "start_time": "2023-12-16T19:37:04.561745",
     "status": "completed"
    },
    "tags": []
   },
   "outputs": [
    {
     "data": {
      "image/png": "[encoded data removed]",
      "text/plain": [
       "<Figure size 560.236x500 with 1 Axes>"
      ]
     },
     "metadata": {},
     "output_type": "display_data"
    }
   ],
   "source": [
    "f = sns.relplot(x='valor_transacoes_12m', y='qtd_transacoes_12m', data=df, hue='default')\n",
    "_ = f.set(\n",
    "    title='Relação entre Valor e Quantidade de Transações no Último Ano', \n",
    "    xlabel='Valor das Transações no Último Ano', \n",
    "    ylabel='Quantidade das Transações no Último Ano'\n",
    "  )"
   ]
  },
  {
   "cell_type": "markdown",
   "id": "91de4691",
   "metadata": {
    "papermill": {
     "duration": 0.015288,
     "end_time": "2023-12-16T19:37:05.670023",
     "exception": false,
     "start_time": "2023-12-16T19:37:05.654735",
     "status": "completed"
    },
    "tags": []
   },
   "source": [
    "# <span style=\"color: #9370DB;\">9.0 Conclusão</span>"
   ]
  },
  {
   "cell_type": "markdown",
   "id": "91f6aaea",
   "metadata": {
    "papermill": {
     "duration": 0.015295,
     "end_time": "2023-12-16T19:37:05.700754",
     "exception": false,
     "start_time": "2023-12-16T19:37:05.685459",
     "status": "completed"
    },
    "tags": []
   },
   "source": [
    "- Foi encontrado uma relação entre as colunas 'qtd_transacoes_12m' e 'valor_transacoes_12m' e a variável default\n",
    "- Através do gráfico de relação entre o valor e quantidade de transações no último ano, foi possível verificar:\n",
    "\n",
    "\n",
    "    - Tendências de clientes adimplentes (default = 0):\n",
    "        - Mais de 80 transações, e valor total das transações entre mil e 5.000 reais;\n",
    "        - Entre 90 ou mais transações, e valor total da transações maior que 7.500 reais;    \n",
    "        - Mais de 80 transações, e valor total da transações maior que 12.500 reais;    \n",
    "        \n",
    "    - Tendências de clientes default (default = 1):\n",
    "        - Até 60 transações, e valor total das transacões entre 1.000 e 5.000 reais;\n",
    "        - 90 transações ou menos, e valor total das transações entre 7.500 e 10.000 reais."
   ]
  }
 ],
 "metadata": {
  "kaggle": {
   "accelerator": "none",
   "dataSources": [
    {
     "datasetId": 4109909,
     "sourceId": 7124723,
     "sourceType": "datasetVersion"
    }
   ],
   "dockerImageVersionId": 30615,
   "isGpuEnabled": false,
   "isInternetEnabled": true,
   "language": "python",
   "sourceType": "notebook"
  },
  "kernelspec": {
   "display_name": "Python 3",
   "language": "python",
   "name": "python3"
  },
  "language_info": {
   "codemirror_mode": {
    "name": "ipython",
    "version": 3
   },
   "file_extension": ".py",
   "mimetype": "text/x-python",
   "name": "python",
   "nbconvert_exporter": "python",
   "pygments_lexer": "ipython3",
   "version": "3.10.12"
  },
  "papermill": {
   "default_parameters": {},
   "duration": 10.457219,
   "end_time": "2023-12-16T19:37:06.234172",
   "environment_variables": {},
   "exception": null,
   "input_path": "__notebook__.ipynb",
   "output_path": "__notebook__.ipynb",
   "parameters": {},
   "start_time": "2023-12-16T19:36:55.776953",
   "version": "2.4.0"
  }
 },
 "nbformat": 4,
 "nbformat_minor": 5
}
